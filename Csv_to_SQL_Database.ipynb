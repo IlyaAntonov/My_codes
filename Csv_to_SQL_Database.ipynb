{
 "cells": [
  {
   "cell_type": "markdown",
   "metadata": {},
   "source": [
    "# Upload csv to the database"
   ]
  },
  {
   "cell_type": "markdown",
   "metadata": {},
   "source": [
    "The data was taken from the link: https://www.kaggle.com/c/home-credit-default-risk/"
   ]
  },
  {
   "cell_type": "markdown",
   "metadata": {},
   "source": [
    "Task: Upload Excel table to MS SQL Server and combine two of them ('application_test', 'application_train') with deleting one of the columns ('TARGET')"
   ]
  },
  {
   "cell_type": "markdown",
   "metadata": {},
   "source": [
    "Problem: MS SQL Server cannot correctly transfer data from an Excel table to the expected database if a separator character is present in the column values. As a result, when loading data, the table will be curved."
   ]
  },
  {
   "cell_type": "markdown",
   "metadata": {},
   "source": [
    "Below is my version of solving this problem and completing the task with detailed comments."
   ]
  },
  {
   "cell_type": "code",
   "execution_count": 1,
   "metadata": {},
   "outputs": [],
   "source": [
    "#Importing required libraries\n",
    "import pypyodbc \n",
    "import numpy as np\n",
    "import time"
   ]
  },
  {
   "cell_type": "code",
   "execution_count": 2,
   "metadata": {},
   "outputs": [],
   "source": [
    "#Create a list with table names and connect to the database\n",
    "tablenames = ['application_test', 'application_train', 'bureau', 'bureau_balance', 'credit_card_balance', \n",
    "              'installments_payments', 'POS_CASH_balance', 'previous_application']\n",
    "\n",
    "connection = pypyodbc.connect('Driver={SQL Server}; SERVER=\"server\"; DATABASE=\"database\"; UID=\"username\"; PWD=\"password\"')\n",
    "\n",
    "cursor = connection.cursor()"
   ]
  },
  {
   "cell_type": "markdown",
   "metadata": {},
   "source": [
    "I decided to fix the problem by changing the values themselves.\n",
    "In my case, there were \",\" in the table cells. I decided to replace them with \"/\" so that when loading the tables there would be no problems with the delimiter."
   ]
  },
  {
   "cell_type": "code",
   "execution_count": 3,
   "metadata": {},
   "outputs": [
    {
     "name": "stdout",
     "output_type": "stream",
     "text": [
      "application_test Tue Jun 16 19:19:05 2020\n",
      "application_test  edit is finished Tue Jun 16 19:19:05 2020\n",
      "application_test is created Tue Jun 16 19:19:05 2020\n",
      "Data imported in application_test Tue Jun 16 19:19:07 2020\n",
      "application_train Tue Jun 16 19:19:07 2020\n",
      "application_train  edit is finished Tue Jun 16 19:19:08 2020\n",
      "application_train is created Tue Jun 16 19:19:08 2020\n",
      "Data imported in application_train Tue Jun 16 19:19:20 2020\n",
      "bureau Tue Jun 16 19:19:20 2020\n",
      "bureau  edit is finished Tue Jun 16 19:19:24 2020\n",
      "bureau is created Tue Jun 16 19:19:24 2020\n",
      "Data imported in bureau Tue Jun 16 19:19:39 2020\n",
      "bureau_balance Tue Jun 16 19:19:39 2020\n",
      "bureau_balance  edit is finished Tue Jun 16 19:20:22 2020\n",
      "bureau_balance is created Tue Jun 16 19:20:22 2020\n",
      "Data imported in bureau_balance Tue Jun 16 19:21:51 2020\n",
      "credit_card_balance Tue Jun 16 19:21:51 2020\n",
      "credit_card_balance  edit is finished Tue Jun 16 19:22:00 2020\n",
      "credit_card_balance is created Tue Jun 16 19:22:00 2020\n",
      "Data imported in credit_card_balance Tue Jun 16 19:22:36 2020\n",
      "installments_payments Tue Jun 16 19:22:36 2020\n",
      "installments_payments  edit is finished Tue Jun 16 19:23:03 2020\n",
      "installments_payments is created Tue Jun 16 19:23:03 2020\n",
      "Data imported in installments_payments Tue Jun 16 19:24:14 2020\n",
      "POS_CASH_balance Tue Jun 16 19:24:14 2020\n",
      "POS_CASH_balance  edit is finished Tue Jun 16 19:24:32 2020\n",
      "POS_CASH_balance is created Tue Jun 16 19:24:32 2020\n",
      "Data imported in POS_CASH_balance Tue Jun 16 19:25:16 2020\n",
      "previous_application Tue Jun 16 19:25:16 2020\n",
      "previous_application  edit is finished Tue Jun 16 19:25:21 2020\n",
      "previous_application is created Tue Jun 16 19:25:21 2020\n",
      "Data imported in previous_application Tue Jun 16 19:25:50 2020\n"
     ]
    }
   ],
   "source": [
    "# For each of the tables, we first create a copy with the corrections already made \n",
    "# After that we send the SQL-request for creating tables.\n",
    "\n",
    "for tablename in tablenames:\n",
    "    \n",
    "    # Started copying\n",
    "    print(tablename, time.ctime())\n",
    "    fin = open('path/to/' + tablename +'.csv', 'r', encoding='utf-8')\n",
    "    fout = open('path/to/new/' + tablename + '_edited.csv', 'w', encoding='utf-8')\n",
    "    s = fin.readline()\n",
    "    print(s, end='', file=fout) # Migrated column headers\n",
    "    \n",
    "    # The correction process has begun\n",
    "    while s:\n",
    "        s = fin.readline()\n",
    "        if not s:\n",
    "            break\n",
    "        i_first = s.find('\"')\n",
    "        i_second = s.find('\"', i_first + 1)\n",
    "        while i_first != -1 and i_second != -1:\n",
    "            st_wrong = s[i_first:i_second + 1]\n",
    "            st_right = st_wrong.replace(', ', ' / ')\n",
    "            s = s.replace(st_wrong, st_right[1:-1])\n",
    "            i_first = s.find('\"', i_second + 1)\n",
    "            i_second = s.find('\"', i_first + 1)\n",
    "        print(s, end='', file=fout)\n",
    "    fin.close()\n",
    "    fout.close()\n",
    "    print(tablename, ' edit is finished', time.ctime()) # Copy and repair completed\n",
    "    \n",
    "    # Now create tables in the database\n",
    "    fin = open('path/to/' + tablename +'_edited.csv', 'r', encoding='utf-8')\n",
    "    names_of_column = fin.readline().strip().split(',')\n",
    "    fin.close()\n",
    "    SQLQuery = (\"create table \" + tablename + \"_edited(\" + \"\\n\")\n",
    "    for name in names_of_column:\n",
    "        SQLQuery += \"\\t\" + name + \" varchar(50),\" + \"\\n\"\n",
    "    SQLQuery += \")\"\n",
    "    cursor.execute(SQLQuery)\n",
    "    connection.commit()\n",
    "    print(tablename,  'is created', time.ctime())\n",
    "    SQLQuery = (\n",
    "        \"bulk insert \" + tablename + \"_edited\\n\" +\n",
    "        \"from 'path/to/\" + tablename + \"_edited.csv'\" + \"\\n\" +\n",
    "        \"with (fieldterminator = ',', firstrow = 2)\"\n",
    "    )\n",
    "    cursor.execute(SQLQuery)\n",
    "    connection.commit()\n",
    "    print('Data imported in', tablename, time.ctime())\n",
    "    \n",
    "# Change the names of the tables in the list to new ones\n",
    "for i in range(len(tablenames)):\n",
    "    tablenames[i] += '_edited'"
   ]
  },
  {
   "cell_type": "code",
   "execution_count": 4,
   "metadata": {},
   "outputs": [
    {
     "data": {
      "text/plain": [
       "'application_train_edited'"
      ]
     },
     "execution_count": 4,
     "metadata": {},
     "output_type": "execute_result"
    }
   ],
   "source": [
    "# We join tables 'application_test' and 'application_train' and delete the column 'TARGET'\n",
    "cursor.execute(\"alter table \" + tablenames[1] + \"\\n\" + \"drop column TARGET;\")\n",
    "connection.commit()\n",
    "cursor.execute(\"insert into \" + tablenames[0] + \"\\n\" + \"select * from \" + tablenames[1] + \";\")\n",
    "connection.commit()\n",
    "cursor.execute(\"drop table \" + tablenames[1] + \";\")\n",
    "connection.commit()\n",
    "tablenames.pop(1)"
   ]
  },
  {
   "cell_type": "markdown",
   "metadata": {},
   "source": [
    "Now you need to change the data type of the columns in each table.\n",
    "Since the set of columns is different everywhere, you need to process each table individually."
   ]
  },
  {
   "cell_type": "code",
   "execution_count": 5,
   "metadata": {},
   "outputs": [],
   "source": [
    "# Change the data type in the table 'application_test'\n",
    "tablename = tablenames[0]\n",
    "\n",
    "# Let's create a dictionary with a union of columns for the desired data type\n",
    "tablechange = {\n",
    "    'FlagYN':['FLAG_OWN_CAR', 'FLAG_OWN_REALTY'], \n",
    "    'On_Float':[\n",
    "        'SK_ID_CURR', 'CNT_CHILDREN', 'AMT_INCOME_TOTAL', 'AMT_CREDIT', 'AMT_ANNUITY', 'AMT_GOODS_PRICE', \n",
    "        'REGION_POPULATION_RELATIVE', 'DAYS_BIRTH', 'DAYS_EMPLOYED', 'DAYS_REGISTRATION', 'DAYS_ID_PUBLISH', 'OWN_CAR_AGE', \n",
    "        'CNT_FAM_MEMBERS', 'REGION_RATING_CLIENT', 'REGION_RATING_CLIENT_W_CITY', 'HOUR_APPR_PROCESS_START', \n",
    "        'REG_REGION_NOT_LIVE_REGION', 'REG_REGION_NOT_WORK_REGION', 'LIVE_REGION_NOT_WORK_REGION', 'REG_CITY_NOT_LIVE_CITY', \n",
    "        'REG_CITY_NOT_WORK_CITY', 'LIVE_CITY_NOT_WORK_CITY', 'EXT_SOURCE_1', 'EXT_SOURCE_2', 'EXT_SOURCE_3', 'APARTMENTS_AVG', \n",
    "        'BASEMENTAREA_AVG', 'YEARS_BEGINEXPLUATATION_AVG', 'YEARS_BUILD_AVG', 'COMMONAREA_AVG', 'ELEVATORS_AVG', \n",
    "        'ENTRANCES_AVG', 'FLOORSMAX_AVG', 'FLOORSMIN_AVG', 'LANDAREA_AVG', 'LIVINGAPARTMENTS_AVG', 'LIVINGAREA_AVG', \n",
    "        'NONLIVINGAPARTMENTS_AVG', 'NONLIVINGAREA_AVG', 'APARTMENTS_MODE', 'BASEMENTAREA_MODE', 'YEARS_BEGINEXPLUATATION_MODE', \n",
    "        'YEARS_BUILD_MODE', 'COMMONAREA_MODE', 'ELEVATORS_MODE', 'ENTRANCES_MODE', 'FLOORSMAX_MODE', 'FLOORSMIN_MODE', \n",
    "        'LANDAREA_MODE', 'LIVINGAPARTMENTS_MODE', 'LIVINGAREA_MODE', 'NONLIVINGAPARTMENTS_MODE', 'NONLIVINGAREA_MODE', \n",
    "        'APARTMENTS_MEDI', 'BASEMENTAREA_MEDI', 'YEARS_BEGINEXPLUATATION_MEDI', 'YEARS_BUILD_MEDI', 'COMMONAREA_MEDI', \n",
    "        'ELEVATORS_MEDI', 'ENTRANCES_MEDI', 'FLOORSMAX_MEDI', 'FLOORSMIN_MEDI', 'LANDAREA_MEDI', 'LIVINGAPARTMENTS_MEDI', \n",
    "        'LIVINGAREA_MEDI', 'NONLIVINGAPARTMENTS_MEDI', 'NONLIVINGAREA_MEDI', 'TOTALAREA_MODE', 'OBS_30_CNT_SOCIAL_CIRCLE', \n",
    "        'DEF_30_CNT_SOCIAL_CIRCLE', 'OBS_60_CNT_SOCIAL_CIRCLE', 'DEF_60_CNT_SOCIAL_CIRCLE', 'DAYS_LAST_PHONE_CHANGE', \n",
    "        'AMT_REQ_CREDIT_BUREAU_HOUR', 'AMT_REQ_CREDIT_BUREAU_DAY', 'AMT_REQ_CREDIT_BUREAU_WEEK', 'AMT_REQ_CREDIT_BUREAU_MON', \n",
    "        'AMT_REQ_CREDIT_BUREAU_QRT', 'AMT_REQ_CREDIT_BUREAU_YEAR'\n",
    "    ],\n",
    "    'Bit':[\n",
    "        'FLAG_MOBIL', 'FLAG_EMP_PHONE', 'FLAG_WORK_PHONE', 'FLAG_CONT_MOBILE', 'FLAG_PHONE', 'FLAG_EMAIL', 'FLAG_DOCUMENT_2', \n",
    "        'FLAG_DOCUMENT_3', 'FLAG_DOCUMENT_4', 'FLAG_DOCUMENT_5', 'FLAG_DOCUMENT_6', 'FLAG_DOCUMENT_7', 'FLAG_DOCUMENT_8', \n",
    "        'FLAG_DOCUMENT_9', 'FLAG_DOCUMENT_10', 'FLAG_DOCUMENT_11', 'FLAG_DOCUMENT_12', 'FLAG_DOCUMENT_13', 'FLAG_DOCUMENT_14', \n",
    "        'FLAG_DOCUMENT_15', 'FLAG_DOCUMENT_16', 'FLAG_DOCUMENT_17', 'FLAG_DOCUMENT_18', 'FLAG_DOCUMENT_19', 'FLAG_DOCUMENT_20',\n",
    "        'FLAG_DOCUMENT_21'\n",
    "    ]\n",
    "}"
   ]
  },
  {
   "cell_type": "code",
   "execution_count": 6,
   "metadata": {},
   "outputs": [
    {
     "name": "stdout",
     "output_type": "stream",
     "text": [
      "FLAG_OWN_CAR is changed Tue Jun 16 19:26:07 2020\n",
      "FLAG_OWN_REALTY is changed Tue Jun 16 19:26:09 2020\n",
      "SK_ID_CURR is changed Tue Jun 16 19:26:14 2020\n",
      "CNT_CHILDREN is changed Tue Jun 16 19:26:17 2020\n",
      "AMT_INCOME_TOTAL is changed Tue Jun 16 19:26:21 2020\n",
      "AMT_CREDIT is changed Tue Jun 16 19:26:24 2020\n",
      "AMT_ANNUITY is changed Tue Jun 16 19:26:26 2020\n",
      "AMT_GOODS_PRICE is changed Tue Jun 16 19:26:32 2020\n",
      "REGION_POPULATION_RELATIVE is changed Tue Jun 16 19:26:34 2020\n",
      "DAYS_BIRTH is changed Tue Jun 16 19:26:40 2020\n",
      "DAYS_EMPLOYED is changed Tue Jun 16 19:26:42 2020\n",
      "DAYS_REGISTRATION is changed Tue Jun 16 19:26:48 2020\n",
      "DAYS_ID_PUBLISH is changed Tue Jun 16 19:26:50 2020\n",
      "OWN_CAR_AGE is changed Tue Jun 16 19:26:56 2020\n",
      "CNT_FAM_MEMBERS is changed Tue Jun 16 19:26:58 2020\n",
      "REGION_RATING_CLIENT is changed Tue Jun 16 19:27:04 2020\n",
      "REGION_RATING_CLIENT_W_CITY is changed Tue Jun 16 19:27:06 2020\n",
      "HOUR_APPR_PROCESS_START is changed Tue Jun 16 19:27:12 2020\n",
      "REG_REGION_NOT_LIVE_REGION is changed Tue Jun 16 19:27:14 2020\n",
      "REG_REGION_NOT_WORK_REGION is changed Tue Jun 16 19:27:20 2020\n",
      "LIVE_REGION_NOT_WORK_REGION is changed Tue Jun 16 19:27:22 2020\n",
      "REG_CITY_NOT_LIVE_CITY is changed Tue Jun 16 19:27:28 2020\n",
      "REG_CITY_NOT_WORK_CITY is changed Tue Jun 16 19:27:31 2020\n",
      "LIVE_CITY_NOT_WORK_CITY is changed Tue Jun 16 19:27:37 2020\n",
      "EXT_SOURCE_1 is changed Tue Jun 16 19:27:39 2020\n",
      "EXT_SOURCE_2 is changed Tue Jun 16 19:27:47 2020\n",
      "EXT_SOURCE_3 is changed Tue Jun 16 19:27:53 2020\n",
      "APARTMENTS_AVG is changed Tue Jun 16 19:27:55 2020\n",
      "BASEMENTAREA_AVG is changed Tue Jun 16 19:28:02 2020\n",
      "YEARS_BEGINEXPLUATATION_AVG is changed Tue Jun 16 19:28:05 2020\n",
      "YEARS_BUILD_AVG is changed Tue Jun 16 19:28:12 2020\n",
      "COMMONAREA_AVG is changed Tue Jun 16 19:28:18 2020\n",
      "ELEVATORS_AVG is changed Tue Jun 16 19:28:21 2020\n",
      "ENTRANCES_AVG is changed Tue Jun 16 19:28:29 2020\n",
      "FLOORSMAX_AVG is changed Tue Jun 16 19:28:35 2020\n",
      "FLOORSMIN_AVG is changed Tue Jun 16 19:28:42 2020\n",
      "LANDAREA_AVG is changed Tue Jun 16 19:28:45 2020\n",
      "LIVINGAPARTMENTS_AVG is changed Tue Jun 16 19:28:52 2020\n",
      "LIVINGAREA_AVG is changed Tue Jun 16 19:28:59 2020\n",
      "NONLIVINGAPARTMENTS_AVG is changed Tue Jun 16 19:29:02 2020\n",
      "NONLIVINGAREA_AVG is changed Tue Jun 16 19:29:09 2020\n",
      "APARTMENTS_MODE is changed Tue Jun 16 19:29:16 2020\n",
      "BASEMENTAREA_MODE is changed Tue Jun 16 19:29:23 2020\n",
      "YEARS_BEGINEXPLUATATION_MODE is changed Tue Jun 16 19:29:26 2020\n",
      "YEARS_BUILD_MODE is changed Tue Jun 16 19:29:34 2020\n",
      "COMMONAREA_MODE is changed Tue Jun 16 19:29:42 2020\n",
      "ELEVATORS_MODE is changed Tue Jun 16 19:29:49 2020\n",
      "ENTRANCES_MODE is changed Tue Jun 16 19:29:56 2020\n",
      "FLOORSMAX_MODE is changed Tue Jun 16 19:30:04 2020\n",
      "FLOORSMIN_MODE is changed Tue Jun 16 19:30:07 2020\n",
      "LANDAREA_MODE is changed Tue Jun 16 19:30:15 2020\n",
      "LIVINGAPARTMENTS_MODE is changed Tue Jun 16 19:30:22 2020\n",
      "LIVINGAREA_MODE is changed Tue Jun 16 19:30:25 2020\n",
      "NONLIVINGAPARTMENTS_MODE is changed Tue Jun 16 19:30:33 2020\n",
      "NONLIVINGAREA_MODE is changed Tue Jun 16 19:30:40 2020\n",
      "APARTMENTS_MEDI is changed Tue Jun 16 19:30:48 2020\n",
      "BASEMENTAREA_MEDI is changed Tue Jun 16 19:30:57 2020\n",
      "YEARS_BEGINEXPLUATATION_MEDI is changed Tue Jun 16 19:31:04 2020\n",
      "YEARS_BUILD_MEDI is changed Tue Jun 16 19:31:13 2020\n",
      "COMMONAREA_MEDI is changed Tue Jun 16 19:31:20 2020\n",
      "ELEVATORS_MEDI is changed Tue Jun 16 19:31:28 2020\n",
      "ENTRANCES_MEDI is changed Tue Jun 16 19:31:36 2020\n",
      "FLOORSMAX_MEDI is changed Tue Jun 16 19:31:45 2020\n",
      "FLOORSMIN_MEDI is changed Tue Jun 16 19:31:53 2020\n",
      "LANDAREA_MEDI is changed Tue Jun 16 19:32:02 2020\n",
      "LIVINGAPARTMENTS_MEDI is changed Tue Jun 16 19:32:11 2020\n",
      "LIVINGAREA_MEDI is changed Tue Jun 16 19:32:19 2020\n",
      "NONLIVINGAPARTMENTS_MEDI is changed Tue Jun 16 19:32:28 2020\n",
      "NONLIVINGAREA_MEDI is changed Tue Jun 16 19:32:36 2020\n",
      "TOTALAREA_MODE is changed Tue Jun 16 19:32:45 2020\n",
      "OBS_30_CNT_SOCIAL_CIRCLE is changed Tue Jun 16 19:32:54 2020\n",
      "DEF_30_CNT_SOCIAL_CIRCLE is changed Tue Jun 16 19:33:06 2020\n",
      "OBS_60_CNT_SOCIAL_CIRCLE is changed Tue Jun 16 19:33:15 2020\n",
      "DEF_60_CNT_SOCIAL_CIRCLE is changed Tue Jun 16 19:33:23 2020\n",
      "DAYS_LAST_PHONE_CHANGE is changed Tue Jun 16 19:33:32 2020\n",
      "AMT_REQ_CREDIT_BUREAU_HOUR is changed Tue Jun 16 19:33:41 2020\n",
      "AMT_REQ_CREDIT_BUREAU_DAY is changed Tue Jun 16 19:33:50 2020\n",
      "AMT_REQ_CREDIT_BUREAU_WEEK is changed Tue Jun 16 19:33:59 2020\n",
      "AMT_REQ_CREDIT_BUREAU_MON is changed Tue Jun 16 19:34:08 2020\n",
      "AMT_REQ_CREDIT_BUREAU_QRT is changed Tue Jun 16 19:34:21 2020\n",
      "AMT_REQ_CREDIT_BUREAU_YEAR is changed Tue Jun 16 19:34:29 2020\n",
      "FLAG_MOBIL is changed Tue Jun 16 19:34:38 2020\n",
      "FLAG_EMP_PHONE is changed Tue Jun 16 19:34:47 2020\n",
      "FLAG_WORK_PHONE is changed Tue Jun 16 19:34:55 2020\n",
      "FLAG_CONT_MOBILE is changed Tue Jun 16 19:35:03 2020\n",
      "FLAG_PHONE is changed Tue Jun 16 19:35:13 2020\n",
      "FLAG_EMAIL is changed Tue Jun 16 19:35:21 2020\n",
      "FLAG_DOCUMENT_2 is changed Tue Jun 16 19:35:30 2020\n",
      "FLAG_DOCUMENT_3 is changed Tue Jun 16 19:35:42 2020\n",
      "FLAG_DOCUMENT_4 is changed Tue Jun 16 19:35:54 2020\n",
      "FLAG_DOCUMENT_5 is changed Tue Jun 16 19:36:04 2020\n",
      "FLAG_DOCUMENT_6 is changed Tue Jun 16 19:36:12 2020\n",
      "FLAG_DOCUMENT_7 is changed Tue Jun 16 19:36:20 2020\n",
      "FLAG_DOCUMENT_8 is changed Tue Jun 16 19:36:29 2020\n",
      "FLAG_DOCUMENT_9 is changed Tue Jun 16 19:36:38 2020\n",
      "FLAG_DOCUMENT_10 is changed Tue Jun 16 19:36:46 2020\n",
      "FLAG_DOCUMENT_11 is changed Tue Jun 16 19:36:54 2020\n",
      "FLAG_DOCUMENT_12 is changed Tue Jun 16 19:37:07 2020\n",
      "FLAG_DOCUMENT_13 is changed Tue Jun 16 19:37:15 2020\n",
      "FLAG_DOCUMENT_14 is changed Tue Jun 16 19:37:19 2020\n",
      "FLAG_DOCUMENT_15 is changed Tue Jun 16 19:37:27 2020\n",
      "FLAG_DOCUMENT_16 is changed Tue Jun 16 19:37:36 2020\n",
      "FLAG_DOCUMENT_17 is changed Tue Jun 16 19:37:45 2020\n",
      "FLAG_DOCUMENT_18 is changed Tue Jun 16 19:38:00 2020\n",
      "FLAG_DOCUMENT_19 is changed Tue Jun 16 19:38:09 2020\n",
      "FLAG_DOCUMENT_20 is changed Tue Jun 16 19:38:21 2020\n",
      "FLAG_DOCUMENT_21 is changed Tue Jun 16 19:38:29 2020\n",
      "Table application_test_edited is changed\n"
     ]
    }
   ],
   "source": [
    "# Next, change the data types of the specified columns to the desired\n",
    "for column in tablechange['FlagYN']:\n",
    "    print(column, end='')\n",
    "    SQLQuery =(\"update \" + tablename + \" set \" + column + \" = 1\\n\" + \"where \" + column + \" = 'Y';\" + \"\\n\"\n",
    "              \"update \" + tablename + \" set \" + column + \" = 0\\n\" + \"where \" + column + \" = 'N';\" + \"\\n\"\n",
    "              \"alter table \" + tablename + \"\\n\" + \"alter column \" + column + \" bit;\")\n",
    "    cursor.execute(SQLQuery)\n",
    "    connection.commit()\n",
    "    print(' is changed', time.ctime())\n",
    "    \n",
    "for column in tablechange['On_Float']:\n",
    "    print(column, end='')\n",
    "    SQLQuery =(\"alter table \" + tablename + \"\\n\" + \"alter column \" + column + \" float;\")\n",
    "    cursor.execute(SQLQuery)\n",
    "    connection.commit()\n",
    "    print(' is changed', time.ctime())\n",
    "    \n",
    "for column in tablechange['Bit']:\n",
    "    print(column, end='')\n",
    "    SQLQuery =(\"alter table \" + tablename + \"\\n\" + \"alter column \" + column + \" bit;\")\n",
    "    cursor.execute(SQLQuery)\n",
    "    connection.commit()\n",
    "    print(' is changed', time.ctime())\n",
    "    \n",
    "print('Table', tablename, 'is changed')"
   ]
  },
  {
   "cell_type": "code",
   "execution_count": 7,
   "metadata": {},
   "outputs": [
    {
     "name": "stdout",
     "output_type": "stream",
     "text": [
      "SK_ID_CURR is changed Tue Jun 16 19:38:48 2020\n",
      "SK_ID_BUREAU is changed Tue Jun 16 19:39:11 2020\n",
      "DAYS_CREDIT is changed Tue Jun 16 19:39:34 2020\n",
      "CREDIT_DAY_OVERDUE is changed Tue Jun 16 19:39:54 2020\n",
      "DAYS_CREDIT_ENDDATE is changed Tue Jun 16 19:40:18 2020\n",
      "DAYS_ENDDATE_FACT is changed Tue Jun 16 19:40:42 2020\n",
      "AMT_CREDIT_MAX_OVERDUE is changed Tue Jun 16 19:41:06 2020\n",
      "CNT_CREDIT_PROLONG is changed Tue Jun 16 19:41:31 2020\n",
      "AMT_CREDIT_SUM is changed Tue Jun 16 19:41:56 2020\n",
      "AMT_CREDIT_SUM_DEBT is changed Tue Jun 16 19:42:21 2020\n",
      "AMT_CREDIT_SUM_LIMIT is changed Tue Jun 16 19:42:46 2020\n",
      "AMT_CREDIT_SUM_OVERDUE is changed Tue Jun 16 19:43:11 2020\n",
      "DAYS_CREDIT_UPDATE is changed Tue Jun 16 19:43:35 2020\n",
      "AMT_ANNUITY is changed Tue Jun 16 19:44:00 2020\n",
      "Table bureau_edited is changed\n"
     ]
    }
   ],
   "source": [
    "# Then repeat the steps for the remaining tables.\n",
    "\n",
    "# Change the data type in the table 'bureau'\n",
    "tablename = tablenames[1]\n",
    "columns = [\n",
    "    'SK_ID_CURR', 'SK_ID_BUREAU', 'DAYS_CREDIT', 'CREDIT_DAY_OVERDUE', 'DAYS_CREDIT_ENDDATE', 'DAYS_ENDDATE_FACT', \n",
    "    'AMT_CREDIT_MAX_OVERDUE', 'CNT_CREDIT_PROLONG', 'AMT_CREDIT_SUM', 'AMT_CREDIT_SUM_DEBT', 'AMT_CREDIT_SUM_LIMIT', \n",
    "    'AMT_CREDIT_SUM_OVERDUE', 'DAYS_CREDIT_UPDATE', 'AMT_ANNUITY'\n",
    "]\n",
    "for column in columns:\n",
    "    print(column, end='')\n",
    "    SQLQuery =(\"alter table \" + tablename + \"\\n\" + \"alter column \" + column + \" float;\")\n",
    "    cursor.execute(SQLQuery)\n",
    "    connection.commit()\n",
    "    print(' is changed', time.ctime())\n",
    "    \n",
    "print('Table', tablename, 'is changed')"
   ]
  },
  {
   "cell_type": "code",
   "execution_count": 8,
   "metadata": {},
   "outputs": [
    {
     "name": "stdout",
     "output_type": "stream",
     "text": [
      "SK_ID_BUREAU is changed Tue Jun 16 19:52:04 2020\n",
      "MONTHS_BALANCE is changed Tue Jun 16 19:59:52 2020\n",
      "Table bureau_balance_edited is changed\n"
     ]
    }
   ],
   "source": [
    "# Change the data type in the table 'bureau_balance'\n",
    "tablename = tablenames[2]\n",
    "columns = ['SK_ID_BUREAU', 'MONTHS_BALANCE']\n",
    "for column in columns:\n",
    "    print(column, end='')\n",
    "    SQLQuery =(\"alter table \" + tablename + \"\\n\" + \"alter column \" + column + \" float;\")\n",
    "    cursor.execute(SQLQuery)\n",
    "    connection.commit()\n",
    "    print(' is changed', time.ctime())\n",
    "    \n",
    "print('Table', tablename, 'is changed')"
   ]
  },
  {
   "cell_type": "code",
   "execution_count": 9,
   "metadata": {},
   "outputs": [
    {
     "name": "stdout",
     "output_type": "stream",
     "text": [
      "SK_ID_PREV is changed Tue Jun 16 20:00:29 2020\n",
      "SK_ID_CURR is changed Tue Jun 16 20:01:11 2020\n",
      "MONTHS_BALANCE is changed Tue Jun 16 20:01:55 2020\n",
      "AMT_BALANCE is changed Tue Jun 16 20:02:37 2020\n",
      "AMT_CREDIT_LIMIT_ACTUAL is changed Tue Jun 16 20:03:19 2020\n",
      "AMT_DRAWINGS_ATM_CURRENT is changed Tue Jun 16 20:04:01 2020\n",
      "AMT_DRAWINGS_CURRENT is changed Tue Jun 16 20:04:48 2020\n",
      "AMT_DRAWINGS_OTHER_CURRENT is changed Tue Jun 16 20:05:30 2020\n",
      "AMT_DRAWINGS_POS_CURRENT is changed Tue Jun 16 20:06:18 2020\n",
      "AMT_INST_MIN_REGULARITY is changed Tue Jun 16 20:07:02 2020\n",
      "AMT_PAYMENT_CURRENT is changed Tue Jun 16 20:07:51 2020\n",
      "AMT_PAYMENT_TOTAL_CURRENT is changed Tue Jun 16 20:08:39 2020\n",
      "AMT_RECEIVABLE_PRINCIPAL is changed Tue Jun 16 20:09:27 2020\n",
      "AMT_RECIVABLE is changed Tue Jun 16 20:10:15 2020\n",
      "AMT_TOTAL_RECEIVABLE is changed Tue Jun 16 20:10:59 2020\n",
      "CNT_DRAWINGS_ATM_CURRENT is changed Tue Jun 16 20:11:47 2020\n",
      "CNT_DRAWINGS_CURRENT is changed Tue Jun 16 20:12:35 2020\n",
      "CNT_DRAWINGS_OTHER_CURRENT is changed Tue Jun 16 20:13:18 2020\n",
      "CNT_DRAWINGS_POS_CURRENT is changed Tue Jun 16 20:14:07 2020\n",
      "CNT_INSTALMENT_MATURE_CUM is changed Tue Jun 16 20:14:55 2020\n",
      "SK_DPD is changed Tue Jun 16 20:15:38 2020\n",
      "SK_DPD_DEF is changed Tue Jun 16 20:16:27 2020\n",
      "Table credit_card_balance_edited is changed\n"
     ]
    }
   ],
   "source": [
    "# Change the data type in the table 'credit_card_balance'\n",
    "tablename = tablenames[3]\n",
    "columns = [\n",
    "    'SK_ID_PREV', 'SK_ID_CURR', 'MONTHS_BALANCE', 'AMT_BALANCE', 'AMT_CREDIT_LIMIT_ACTUAL', 'AMT_DRAWINGS_ATM_CURRENT', \n",
    "    'AMT_DRAWINGS_CURRENT', 'AMT_DRAWINGS_OTHER_CURRENT', 'AMT_DRAWINGS_POS_CURRENT', 'AMT_INST_MIN_REGULARITY', \n",
    "    'AMT_PAYMENT_CURRENT', 'AMT_PAYMENT_TOTAL_CURRENT', 'AMT_RECEIVABLE_PRINCIPAL', 'AMT_RECIVABLE', 'AMT_TOTAL_RECEIVABLE', \n",
    "    'CNT_DRAWINGS_ATM_CURRENT', 'CNT_DRAWINGS_CURRENT', 'CNT_DRAWINGS_OTHER_CURRENT', 'CNT_DRAWINGS_POS_CURRENT', \n",
    "    'CNT_INSTALMENT_MATURE_CUM', 'SK_DPD', 'SK_DPD_DEF'\n",
    "]\n",
    "for column in columns:\n",
    "    print(column, end='')\n",
    "    SQLQuery =(\"alter table \" + tablename + \"\\n\" + \"alter column \" + column + \" float;\")\n",
    "    cursor.execute(SQLQuery)\n",
    "    connection.commit()\n",
    "    print(' is changed', time.ctime())\n",
    "    \n",
    "print('Table', tablename, 'is changed')"
   ]
  },
  {
   "cell_type": "code",
   "execution_count": 10,
   "metadata": {},
   "outputs": [
    {
     "name": "stdout",
     "output_type": "stream",
     "text": [
      "SK_ID_PREV is changed Tue Jun 16 20:19:01 2020\n",
      "SK_ID_CURR is changed Tue Jun 16 20:21:43 2020\n",
      "NUM_INSTALMENT_VERSION is changed Tue Jun 16 20:24:34 2020\n",
      "NUM_INSTALMENT_NUMBER is changed Tue Jun 16 20:27:24 2020\n",
      "DAYS_INSTALMENT is changed Tue Jun 16 20:30:24 2020\n",
      "DAYS_ENTRY_PAYMENT is changed Tue Jun 16 20:33:33 2020\n",
      "AMT_INSTALMENT is changed Tue Jun 16 20:38:25 2020\n",
      "AMT_PAYMENT is changed Tue Jun 16 20:48:07 2020\n",
      "Table installments_payments_edited is changed\n"
     ]
    }
   ],
   "source": [
    "# Change the data type in the table 'installments_payments'\n",
    "tablename = tablenames[4]\n",
    "columns = [\n",
    "    'SK_ID_PREV', 'SK_ID_CURR', 'NUM_INSTALMENT_VERSION', 'NUM_INSTALMENT_NUMBER', 'DAYS_INSTALMENT', 'DAYS_ENTRY_PAYMENT', \n",
    "    'AMT_INSTALMENT', 'AMT_PAYMENT'\n",
    "]\n",
    "for column in columns:\n",
    "    print(column, end='')\n",
    "    SQLQuery =(\"alter table \" + tablename + \"\\n\" + \"alter column \" + column + \" float;\")\n",
    "    cursor.execute(SQLQuery)\n",
    "    connection.commit()\n",
    "    print(' is changed', time.ctime())\n",
    "    \n",
    "print('Table', tablename, 'is changed')"
   ]
  },
  {
   "cell_type": "code",
   "execution_count": 11,
   "metadata": {},
   "outputs": [
    {
     "name": "stdout",
     "output_type": "stream",
     "text": [
      "SK_ID_PREV is changed Tue Jun 16 20:50:07 2020\n",
      "SK_ID_CURR is changed Tue Jun 16 20:52:18 2020\n",
      "MONTHS_BALANCE is changed Tue Jun 16 20:54:37 2020\n",
      "CNT_INSTALMENT is changed Tue Jun 16 20:56:58 2020\n",
      "CNT_INSTALMENT_FUTURE is changed Tue Jun 16 20:59:22 2020\n",
      "SK_DPD is changed Tue Jun 16 21:01:51 2020\n",
      "SK_DPD_DEF is changed Tue Jun 16 21:04:29 2020\n",
      "Table POS_CASH_balance_edited is changed\n"
     ]
    }
   ],
   "source": [
    "# Change the data type in the table 'POS_CASH_balance'\n",
    "tablename = tablenames[5]\n",
    "columns = ['SK_ID_PREV', 'SK_ID_CURR', 'MONTHS_BALANCE', 'CNT_INSTALMENT', 'CNT_INSTALMENT_FUTURE', 'SK_DPD', 'SK_DPD_DEF']\n",
    "for column in columns:\n",
    "    print(column, end='')\n",
    "    SQLQuery =(\"alter table \" + tablename + \"\\n\" + \"alter column \" + column + \" float;\")\n",
    "    cursor.execute(SQLQuery)\n",
    "    connection.commit()\n",
    "    print(' is changed', time.ctime())\n",
    "    \n",
    "print('Table', tablename, 'is changed')"
   ]
  },
  {
   "cell_type": "code",
   "execution_count": 12,
   "metadata": {},
   "outputs": [
    {
     "name": "stdout",
     "output_type": "stream",
     "text": [
      "FLAG_LAST_APPL_PER_CONTRACT is changed Tue Jun 16 21:05:02 2020\n",
      "SK_ID_PREV is changed Tue Jun 16 21:05:17 2020\n",
      "SK_ID_CURR is changed Tue Jun 16 21:05:31 2020\n",
      "AMT_ANNUITY is changed Tue Jun 16 21:05:47 2020\n",
      "AMT_APPLICATION is changed Tue Jun 16 21:05:59 2020\n",
      "AMT_CREDIT is changed Tue Jun 16 21:06:15 2020\n",
      "AMT_DOWN_PAYMENT is changed Tue Jun 16 21:06:31 2020\n",
      "AMT_GOODS_PRICE is changed Tue Jun 16 21:06:48 2020\n",
      "HOUR_APPR_PROCESS_START is changed Tue Jun 16 21:07:04 2020\n",
      "RATE_DOWN_PAYMENT is changed Tue Jun 16 21:07:20 2020\n",
      "RATE_INTEREST_PRIMARY is changed Tue Jun 16 21:07:36 2020\n",
      "RATE_INTEREST_PRIVILEGED is changed Tue Jun 16 21:07:53 2020\n",
      "DAYS_DECISION is changed Tue Jun 16 21:08:16 2020\n",
      "SELLERPLACE_AREA is changed Tue Jun 16 21:08:35 2020\n",
      "CNT_PAYMENT is changed Tue Jun 16 21:08:57 2020\n",
      "DAYS_FIRST_DRAWING is changed Tue Jun 16 21:09:21 2020\n",
      "DAYS_FIRST_DUE is changed Tue Jun 16 21:09:57 2020\n",
      "DAYS_LAST_DUE_1ST_VERSION is changed Tue Jun 16 21:10:36 2020\n",
      "DAYS_LAST_DUE is changed Tue Jun 16 21:11:06 2020\n",
      "DAYS_TERMINATION is changed Tue Jun 16 21:11:53 2020\n",
      "NFLAG_INSURED_ON_APPROVAL is changed Tue Jun 16 21:12:43 2020\n",
      "NFLAG_LAST_APPL_IN_DAY is changed Tue Jun 16 21:12:58 2020\n",
      "Table previous_application_edited is changed\n"
     ]
    }
   ],
   "source": [
    "# Change the data type in the table 'previous_application'\n",
    "tablename = tablenames[6]\n",
    "tablechange = {\n",
    "    'FlagYN':['FLAG_LAST_APPL_PER_CONTRACT'], \n",
    "    'On_Float':[\n",
    "        'SK_ID_PREV', 'SK_ID_CURR', 'AMT_ANNUITY', 'AMT_APPLICATION', 'AMT_CREDIT', 'AMT_DOWN_PAYMENT', 'AMT_GOODS_PRICE', \n",
    "        'HOUR_APPR_PROCESS_START', 'RATE_DOWN_PAYMENT', 'RATE_INTEREST_PRIMARY', 'RATE_INTEREST_PRIVILEGED', 'DAYS_DECISION', \n",
    "        'SELLERPLACE_AREA', 'CNT_PAYMENT', 'DAYS_FIRST_DRAWING', 'DAYS_FIRST_DUE', 'DAYS_LAST_DUE_1ST_VERSION', 'DAYS_LAST_DUE',\n",
    "        'DAYS_TERMINATION', 'NFLAG_INSURED_ON_APPROVAL'\n",
    "    ],\n",
    "    'Bit':['NFLAG_LAST_APPL_IN_DAY']\n",
    "}\n",
    "for column in tablechange['FlagYN']:\n",
    "    print(column, end='')\n",
    "    SQLQuery =(\"update \" + tablename + \" set \" + column + \" = 1\\n\" + \"where \" + column + \" = 'Y';\" + \"\\n\"\n",
    "              \"update \" + tablename + \" set \" + column + \" = 0\\n\" + \"where \" + column + \" = 'N';\" + \"\\n\"\n",
    "              \"alter table \" + tablename + \"\\n\" + \"alter column \" + column + \" bit;\")\n",
    "    cursor.execute(SQLQuery)\n",
    "    connection.commit()\n",
    "    print(' is changed', time.ctime())\n",
    "for column in tablechange['On_Float']:\n",
    "    print(column, end='')\n",
    "    SQLQuery =(\"alter table \" + tablename + \"\\n\" + \"alter column \" + column + \" float;\")\n",
    "    cursor.execute(SQLQuery)\n",
    "    connection.commit()\n",
    "    print(' is changed', time.ctime())\n",
    "for column in tablechange['Bit']:\n",
    "    print(column, end='')\n",
    "    SQLQuery =(\"alter table \" + tablename + \"\\n\" + \"alter column \" + column + \" bit;\")\n",
    "    cursor.execute(SQLQuery)\n",
    "    connection.commit()\n",
    "    print(' is changed', time.ctime())\n",
    "    \n",
    "print('Table', tablename, 'is changed')\n",
    "connection.close()"
   ]
  },
  {
   "cell_type": "markdown",
   "metadata": {},
   "source": [
    "As a result, we get correctly loaded tables"
   ]
  }
 ],
 "metadata": {
  "kernelspec": {
   "display_name": "Python 3",
   "language": "python",
   "name": "python3"
  },
  "language_info": {
   "codemirror_mode": {
    "name": "ipython",
    "version": 3
   },
   "file_extension": ".py",
   "mimetype": "text/x-python",
   "name": "python",
   "nbconvert_exporter": "python",
   "pygments_lexer": "ipython3",
   "version": "3.7.4"
  }
 },
 "nbformat": 4,
 "nbformat_minor": 2
}
